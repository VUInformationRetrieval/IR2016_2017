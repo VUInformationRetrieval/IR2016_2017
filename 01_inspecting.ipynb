{
 "cells": [
  {
   "cell_type": "markdown",
   "metadata": {},
   "source": [
    "# Inspecting the PubMed Paper Dataset"
   ]
  },
  {
   "cell_type": "markdown",
   "metadata": {},
   "source": [
    "_(Adapted from: Inspecting the dataset - [Luís F. Simões](mailto:luis.simoes@vu.nl). Assignments added by J.E. Hoeksema, 2014-10-16. Converted to Python 3 and minor changes by Tobias Kuhn, 2015-10-23 and 2016-10-21.)_\n",
    "\n",
    "*******"
   ]
  },
  {
   "cell_type": "markdown",
   "metadata": {},
   "source": [
    "This notebook's purpose is to provide a basic illustration of how to handle data in the PubMed dataset, as well as to provide some basic assignments about this dataset. Make sure you download all the dataset files (`malaria__Summaries.pkl.bz2`, etc.) from Blackboard and save them in a directory called `data`, which should be a sub-directory of the one that contains this notebook file (or adjust the file path in the code). The dataset consists of information about scientific papers from the PubMed dataset that contain the word \"malaria\" in the title or abstract.\n",
    "\n",
    "Note that you can run all of this code from a normal Python or iPython shell, except for certain magic codes (marked with %) used for display within a notebook."
   ]
  },
  {
   "cell_type": "markdown",
   "metadata": {},
   "source": [
    "## Loading the dataset"
   ]
  },
  {
   "cell_type": "code",
   "execution_count": 1,
   "metadata": {
    "collapsed": false
   },
   "outputs": [],
   "source": [
    "import pickle, bz2\n",
    "\n",
    "Summaries_file = 'data/malaria__Summaries.pkl.bz2'\n",
    "Summaries = pickle.load( bz2.BZ2File( Summaries_file, 'rb' ) )"
   ]
  },
  {
   "cell_type": "markdown",
   "metadata": {},
   "source": [
    "To make it easier to access the data, we convert here paper entries into [named tuples](http://docs.python.org/3/library/collections.html#collections.namedtuple). This will allow us to refer to fields by keyword, rather than index."
   ]
  },
  {
   "cell_type": "code",
   "execution_count": 2,
   "metadata": {
    "collapsed": false
   },
   "outputs": [],
   "source": [
    "from collections import namedtuple\n",
    "\n",
    "paper = namedtuple( 'paper', ['title', 'authors', 'year', 'doi'] )\n",
    "\n",
    "for (id, paper_info) in Summaries.items():\n",
    "    Summaries[id] = paper( *paper_info )"
   ]
  },
  {
   "cell_type": "code",
   "execution_count": 3,
   "metadata": {
    "collapsed": false
   },
   "outputs": [
    {
     "data": {
      "text/plain": [
       "paper(title='A network approach to analyzing highly recombinant malaria parasite genes.', authors=['Larremore DB', 'Clauset A', 'Buckee CO'], year=2013, doi='10.1371/journal.pcbi.1003268')"
      ]
     },
     "execution_count": 3,
     "metadata": {},
     "output_type": "execute_result"
    }
   ],
   "source": [
    "Summaries[24130474]"
   ]
  },
  {
   "cell_type": "code",
   "execution_count": 4,
   "metadata": {
    "collapsed": false
   },
   "outputs": [
    {
     "data": {
      "text/plain": [
       "'A network approach to analyzing highly recombinant malaria parasite genes.'"
      ]
     },
     "execution_count": 4,
     "metadata": {},
     "output_type": "execute_result"
    }
   ],
   "source": [
    "Summaries[24130474].title"
   ]
  },
  {
   "cell_type": "markdown",
   "metadata": {},
   "source": [
    "## Dataset statistics"
   ]
  },
  {
   "cell_type": "markdown",
   "metadata": {},
   "source": [
    "Plotting relies on [matplotlib](http://matplotlib.org/), which you can download from [here](http://matplotlib.org/downloads.html) ([NumPy](http://www.numpy.org/) is also required, and can be downloaded [here](http://sourceforge.net/projects/numpy/files/NumPy/1.10.1/))."
   ]
  },
  {
   "cell_type": "code",
   "execution_count": 5,
   "metadata": {
    "collapsed": false
   },
   "outputs": [],
   "source": [
    "import matplotlib.pyplot as plt\n",
    "\n",
    "# show plots inline within the notebook\n",
    "%matplotlib inline\n",
    "# set plots' resolution\n",
    "plt.rcParams['savefig.dpi'] = 100"
   ]
  },
  {
   "cell_type": "markdown",
   "metadata": {},
   "source": [
    "### Papers per year"
   ]
  },
  {
   "cell_type": "markdown",
   "metadata": {},
   "source": [
    "Here, we will get information on how many papers in the dataset were published per year.\n",
    "\n",
    "We'll be using the [Counter](https://docs.python.org/3/library/collections.html#collections.Counter) class to determine the number of papers per year."
   ]
  },
  {
   "cell_type": "code",
   "execution_count": 6,
   "metadata": {
    "collapsed": false
   },
   "outputs": [
    {
     "name": "stdout",
     "output_type": "stream",
     "text": [
      "Number of papers in the dataset per year for the past decade:\n",
      "[(2007, 2245), (2008, 2317), (2009, 2482), (2010, 2707), (2011, 2994), (2012, 3233), (2013, 3352), (2014, 3588), (2015, 3627), (2016, 3127)]\n"
     ]
    }
   ],
   "source": [
    "from collections import Counter\n",
    "\n",
    "paper_years = [ p.year for p in Summaries.values() ]\n",
    "papers_per_year = sorted( Counter(paper_years).items() )\n",
    "print('Number of papers in the dataset per year for the past decade:')\n",
    "print(papers_per_year[-10:])"
   ]
  },
  {
   "cell_type": "markdown",
   "metadata": {},
   "source": [
    "Filtering results, to obain only papers since 1950:"
   ]
  },
  {
   "cell_type": "code",
   "execution_count": 7,
   "metadata": {
    "collapsed": false
   },
   "outputs": [
    {
     "name": "stdout",
     "output_type": "stream",
     "text": [
      "Number of papers in the dataset published since 1950: 64761.\n"
     ]
    }
   ],
   "source": [
    "papers_per_year = [ (y,count) for (y,count) in papers_per_year if y >= 1950 ]\n",
    "years = [ y for (y,count) in papers_per_year ]\n",
    "nr_papers = [ count for (y,count) in papers_per_year ]\n",
    "\n",
    "print('Number of papers in the dataset published since 1950: %d.' % sum(nr_papers))"
   ]
  },
  {
   "cell_type": "markdown",
   "metadata": {},
   "source": [
    "Creating a bar plot to visualize the results (using [matplotlib.pyplot.bar](http://matplotlib.org/api/pyplot_api.html#matplotlib.pyplot.bar)):"
   ]
  },
  {
   "cell_type": "code",
   "execution_count": 8,
   "metadata": {
    "collapsed": false
   },
   "outputs": [
    {
     "data": {
      "image/png": "[encoded data removed]",
      "text/plain": [
       "<matplotlib.figure.Figure at 0x7ff5ec7e8fd0>"
      ]
     },
     "metadata": {},
     "output_type": "display_data"
    }
   ],
   "source": [
    "plt.bar( left=years, height=nr_papers, width=1.0 )\n",
    "plt.xlim(1950,2016)\n",
    "plt.xlabel('year')\n",
    "plt.ylabel('number of papers');"
   ]
  },
  {
   "cell_type": "markdown",
   "metadata": {},
   "source": [
    "### Papers per author"
   ]
  },
  {
   "cell_type": "markdown",
   "metadata": {},
   "source": [
    "Here, we will obtain the distribution characterizing the number of papers published by an author."
   ]
  },
  {
   "cell_type": "code",
   "execution_count": 9,
   "metadata": {
    "collapsed": false
   },
   "outputs": [],
   "source": [
    "# flattening out of the list of lists of authors\n",
    "authors_expanded = [\n",
    "    auth\n",
    "    for paper in Summaries.values()\n",
    "    for auth in paper.authors\n",
    "    ]\n",
    "\n",
    "nr_papers_by_author = Counter( authors_expanded )"
   ]
  },
  {
   "cell_type": "code",
   "execution_count": 10,
   "metadata": {
    "collapsed": false
   },
   "outputs": [
    {
     "name": "stdout",
     "output_type": "stream",
     "text": [
      "There are 114572 authors in the dataset with distinct names.\n",
      "\n",
      "50 authors with greatest number of papers:\n",
      "[('Mercereau-Puijalon O', 141), ('Sharma VP', 141), ('Fontenille D', 141), ('Barnwell JW', 142), ('Hviid L', 142), ('Wilairatana P', 144), ('Plowe CV', 145), ('Beier JC', 146), ('Sinden RE', 147), ('Anstey NM', 150), ('Taylor TE', 152), ('Alonso PL', 153), ('Dondorp AM', 154), ('Le Bras J', 156), ('Yan G', 158), ('Björkman A', 158), ('Good MF', 160), ('Troye-Blomberg M', 161), ('Riley EM', 162), ('Davis TM', 162), ('Theander TG', 164), ('Greenwood B', 166), ('Kumar S', 167), ('Trape JF', 167), ('Sauerwein RW', 167), ('Molyneux ME', 167), ('Holder AA', 168), ('Druilhe P', 169), ('Dorsey G', 169), ('Cowman AF', 177), ('Day NP', 182), ('Kain KC', 184), ('Deloron P', 190), ('Doumbo OK', 194), ('Collins WE', 196), ('Rogier C', 202), ('Mueller I', 204), (\"D'Alessandro U\", 212), ('Tanner M', 220), ('Hill AV', 243), ('Rosenthal PJ', 254), ('Hoffman SL', 257), ('Miller LH', 265), ('Greenwood BM', 276), ('Snow RW', 296), ('Kremsner PG', 323), ('Nosten F', 331), ('Marsh K', 357), ('Looareesuwan S', 417), ('White NJ', 640)]\n"
     ]
    }
   ],
   "source": [
    "print('There are %d authors in the dataset with distinct names.\\n' % len(nr_papers_by_author))\n",
    "print('50 authors with greatest number of papers:')\n",
    "print(sorted(nr_papers_by_author.items(), key=lambda i:i[1] )[-50:])"
   ]
  },
  {
   "cell_type": "markdown",
   "metadata": {},
   "source": [
    "Creating a histogram to visualize the results (using [matplotlib.pyplot.hist](http://matplotlib.org/api/pyplot_api.html#matplotlib.pyplot.hist)):"
   ]
  },
  {
   "cell_type": "code",
   "execution_count": 11,
   "metadata": {
    "collapsed": false
   },
   "outputs": [
    {
     "data": {
      "image/png": "[encoded data removed]",
      "text/plain": [
       "<matplotlib.figure.Figure at 0x7ff5ec323f28>"
      ]
     },
     "metadata": {},
     "output_type": "display_data"
    }
   ],
   "source": [
    "plt.hist( x=list(nr_papers_by_author.values()), bins=range(51), histtype='step' )\n",
    "plt.yscale('log')\n",
    "plt.xlabel('number of papers authored')\n",
    "plt.ylabel('number of authors');"
   ]
  },
  {
   "cell_type": "markdown",
   "metadata": {},
   "source": [
    "### Authors per paper"
   ]
  },
  {
   "cell_type": "code",
   "execution_count": 12,
   "metadata": {
    "collapsed": false
   },
   "outputs": [
    {
     "data": {
      "image/png": "[encoded data removed]",
      "text/plain": [
       "<matplotlib.figure.Figure at 0x7ff5ebba7c18>"
      ]
     },
     "metadata": {},
     "output_type": "display_data"
    }
   ],
   "source": [
    "plt.hist( x=[ len(p.authors) for p in Summaries.values() ], bins=range(20), histtype='bar', align='left', normed=True )\n",
    "plt.xlabel('number of authors in one paper')\n",
    "plt.ylabel('fraction of papers')\n",
    "plt.xlim(0,15);"
   ]
  },
  {
   "cell_type": "markdown",
   "metadata": {},
   "source": [
    "### Most frequently occurring words in paper titles"
   ]
  },
  {
   "cell_type": "code",
   "execution_count": 13,
   "metadata": {
    "collapsed": false
   },
   "outputs": [],
   "source": [
    "# assemble list of words in paper titles, convert them to lowercase, and remove trailing '.'\n",
    "title_words = Counter([\n",
    "    ( word if word[-1] != '.' else word[:-1] ).lower()\n",
    "    for paper in Summaries.values()\n",
    "    for word in paper.title.split(' ')\n",
    "    if word != ''   # discard empty strings that are generated when consecutive spaces occur in the title\n",
    "    ])"
   ]
  },
  {
   "cell_type": "code",
   "execution_count": 14,
   "metadata": {
    "collapsed": false
   },
   "outputs": [
    {
     "name": "stdout",
     "output_type": "stream",
     "text": [
      "54122 distinct words occur in the paper titles.\n",
      "\n",
      "50 most frequently occurring words:\n",
      "[('patients', 1256), ('development', 1276), ('cells', 1310), ('mosquito', 1327), ('cell', 1340), ('chloroquine', 1428), ('among', 1431), ('cerebral', 1441), ('vaccine', 1462), ('analysis', 1472), ('drug', 1539), ('during', 1539), ('clinical', 1585), ('severe', 1614), ('is', 1657), ('parasites', 1704), ('transmission', 1790), ('malaria:', 1826), ('health', 1853), ('resistance', 1860), ('new', 1862), ('antimalarial', 1930), ('as', 1951), ('blood', 1987), ('protein', 2038), ('parasite', 2246), ('study', 2408), ('control', 2497), ('vivax', 2540), ('infection', 2541), ('human', 2595), ('against', 2604), ('children', 2786), ('treatment', 3373), ('anopheles', 3449), ('an', 3500), ('by', 4249), ('from', 4766), ('on', 6049), ('with', 8195), ('to', 9671), ('for', 10034), ('falciparum', 11001), ('plasmodium', 15338), ('a', 15466), ('the', 30238), ('and', 31298), ('malaria', 34957), ('in', 46371), ('of', 59018)]\n"
     ]
    }
   ],
   "source": [
    "print(len(title_words), 'distinct words occur in the paper titles.\\n')\n",
    "print('50 most frequently occurring words:')\n",
    "print(sorted( title_words.items(), key=lambda i:i[1] )[-50:])"
   ]
  },
  {
   "cell_type": "markdown",
   "metadata": {},
   "source": [
    "# Assignments"
   ]
  },
  {
   "cell_type": "markdown",
   "metadata": {},
   "source": [
    "**Your name:** ..."
   ]
  },
  {
   "cell_type": "markdown",
   "metadata": {},
   "source": [
    "- Create a plot for the years from 1970 until 2015 that shows how many authors published at least one paper.  \n",
    "  _Hint:_ use a *defaultdict* with a default value of *set*. You can retrieve the number of unique items in a set `s` with `len(s)`. See also the documentation for [*set*](https://docs.python.org/3/library/stdtypes.html#set-types-set-frozenset) and [*defaultdict*](https://docs.python.org/3/library/collections.html#collections.defaultdict)"
   ]
  },
  {
   "cell_type": "code",
   "execution_count": null,
   "metadata": {
    "collapsed": true
   },
   "outputs": [],
   "source": [
    "# Add your code here"
   ]
  },
  {
   "cell_type": "markdown",
   "metadata": {},
   "source": [
    "- Calculate and plot (e.g. using [plt.plot](http://matplotlib.org/api/pyplot_api.html#matplotlib.pyplot.plot)) a graph of the frequency of the 50 most frequent words in titles of papers, from most frequent to least frequent."
   ]
  },
  {
   "cell_type": "code",
   "execution_count": null,
   "metadata": {
    "collapsed": true
   },
   "outputs": [],
   "source": [
    "# Add your code here"
   ]
  },
  {
   "cell_type": "markdown",
   "metadata": {},
   "source": [
    "- While keeping in mind that we are dealing with a biased (preselected) dataset about malaria-related papers, what do you notice when looking at the top 10 most frequent words?"
   ]
  },
  {
   "cell_type": "markdown",
   "metadata": {},
   "source": [
    "[_Write your answer text here_]"
   ]
  },
  {
   "cell_type": "code",
   "execution_count": null,
   "metadata": {
    "collapsed": true
   },
   "outputs": [],
   "source": [
    "# Add your code here"
   ]
  },
  {
   "cell_type": "markdown",
   "metadata": {},
   "source": [
    "**Submit the answers to the assignment as a modified version of this Notebook file (file with `.ipynb` extension) that includes your code and your answers via Blackboard.**"
   ]
  }
 ],
 "metadata": {
  "kernelspec": {
   "display_name": "Python 3",
   "language": "python",
   "name": "python3"
  },
  "language_info": {
   "codemirror_mode": {
    "name": "ipython",
    "version": 3
   },
   "file_extension": ".py",
   "mimetype": "text/x-python",
   "name": "python",
   "nbconvert_exporter": "python",
   "pygments_lexer": "ipython3",
   "version": "3.5.2"
  }
 },
 "nbformat": 4,
 "nbformat_minor": 0
}
