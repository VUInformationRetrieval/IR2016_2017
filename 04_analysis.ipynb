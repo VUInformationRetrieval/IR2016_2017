{
 "cells": [
  {
   "cell_type": "markdown",
   "metadata": {},
   "source": [
    "# Link analysis"
   ]
  },
  {
   "cell_type": "markdown",
   "metadata": {},
   "source": [
    "_(Inspired by and borrowed heavily from: Collective Intelligence - [Luís F. Simões](mailto:luis.simoes@vu.nl). IR version and assignments by J.E. Hoeksema, 2014-11-12. Converted to Python 3 and minor changes by Tobias Kuhn, 2015-11-17.)_\n",
    "\n",
    "*******"
   ]
  },
  {
   "cell_type": "markdown",
   "metadata": {},
   "source": [
    "**IMPORTANT: This is not the final version! The assignments will be changed.**"
   ]
  },
  {
   "cell_type": "markdown",
   "metadata": {},
   "source": [
    "This notebook's purpose is to give examples of how to use graph algorithms to improve search engine. We look at two graphs in particular: the co-authorship network and the citation network.\n",
    "\n",
    "The citation network is similar to the link network of the web: Citations are like web links pointing to other documents. We can therefore apply the same network-based ranking methods."
   ]
  },
  {
   "cell_type": "markdown",
   "metadata": {},
   "source": [
    "## Code from previous exercises"
   ]
  },
  {
   "cell_type": "code",
   "execution_count": 1,
   "metadata": {
    "collapsed": false
   },
   "outputs": [],
   "source": [
    "import pickle, bz2\n",
    "from collections import *\n",
    "\n",
    "import numpy as np\n",
    "import matplotlib.pyplot as plt\n",
    "\n",
    "# show plots inline within the notebook\n",
    "%matplotlib inline\n",
    "# set plots' resolution\n",
    "plt.rcParams['savefig.dpi'] = 100\n",
    "\n",
    "from IPython.display import display, HTML"
   ]
  },
  {
   "cell_type": "code",
   "execution_count": 2,
   "metadata": {
    "collapsed": false
   },
   "outputs": [],
   "source": [
    "Ids_file = 'data/air__Ids.pkl.bz2'\n",
    "Summaries_file = 'data/air__Summaries.pkl.bz2'\n",
    "Citations_file = 'data/air__Citations.pkl.bz2'\n",
    "Abstracts_file = 'data/air__Abstracts.pkl.bz2'"
   ]
  },
  {
   "cell_type": "code",
   "execution_count": 3,
   "metadata": {
    "collapsed": false
   },
   "outputs": [],
   "source": [
    "Ids = pickle.load( bz2.BZ2File( Ids_file, 'rb' ) )"
   ]
  },
  {
   "cell_type": "code",
   "execution_count": 4,
   "metadata": {
    "collapsed": false
   },
   "outputs": [],
   "source": [
    "Summaries = pickle.load( bz2.BZ2File( Summaries_file, 'rb' ) )\n",
    "\n",
    "paper = namedtuple( 'paper', ['title', 'authors', 'year', 'doi'] )\n",
    "\n",
    "for (id, paper_info) in Summaries.items():\n",
    "    Summaries[id] = paper( *paper_info )"
   ]
  },
  {
   "cell_type": "code",
   "execution_count": 5,
   "metadata": {
    "collapsed": false
   },
   "outputs": [],
   "source": [
    "Citations = pickle.load( bz2.BZ2File( Citations_file, 'rb' ) )"
   ]
  },
  {
   "cell_type": "code",
   "execution_count": 6,
   "metadata": {
    "collapsed": false
   },
   "outputs": [],
   "source": [
    "def display_summary( id, extra_text='' ):\n",
    "    \"\"\"\n",
    "    Function for printing a paper's summary through IPython's Rich Display System.\n",
    "    Trims long titles or author lists, and links to the paper's  DOI (when available).\n",
    "    \"\"\"\n",
    "    s = Summaries[ id ]\n",
    "    \n",
    "    title = ( s.title if s.title[-1]!='.' else s.title[:-1] )\n",
    "    title = title[:150].rstrip() + ('' if len(title)<=150 else '...')\n",
    "    if s.doi!='':\n",
    "        title = '<a href=http://dx.doi.org/%s>%s</a>' % (s.doi, title)\n",
    "    \n",
    "    authors = ', '.join( s.authors[:5] ) + ('' if len(s.authors)<=5 else ', ...')\n",
    "    \n",
    "    lines = [\n",
    "        title,\n",
    "        authors,\n",
    "        str(s.year),\n",
    "        '<small>id: %d%s</small>' % (id, extra_text)\n",
    "        ]\n",
    "    \n",
    "    display( HTML( '<blockquote>%s</blockquote>' % '<br>'.join(lines) ) )"
   ]
  },
  {
   "cell_type": "code",
   "execution_count": 7,
   "metadata": {
    "collapsed": true
   },
   "outputs": [],
   "source": [
    "from math import log10\n",
    "\n",
    "def tokenize(text):\n",
    "    return text.split(' ')\n",
    "\n",
    "def preprocess(tokens):\n",
    "    result = []\n",
    "    for token in tokens:\n",
    "        result.append(token.lower())\n",
    "    return result\n",
    "\n",
    "Abstracts = pickle.load( bz2.BZ2File( Abstracts_file, 'rb' ) )\n",
    "\n",
    "inverted_index = defaultdict(set)\n",
    "\n",
    "for (id, abstract) in Abstracts.items():\n",
    "    for term in preprocess(tokenize(abstract)):\n",
    "        inverted_index[term].add(id)\n",
    "\n",
    "tf_matrix = defaultdict(Counter)\n",
    "for (id, abstract) in Abstracts.items():\n",
    "    tf_matrix[id] = Counter(preprocess(tokenize(abstract)))\n",
    "\n",
    "def tf(t,d):\n",
    "    return float(tf_matrix[d][t])\n",
    "\n",
    "def df(t):\n",
    "    return float(len(inverted_index[t]))\n",
    "\n",
    "numdocs = float(len(Abstracts))\n",
    "\n",
    "def num_documents():\n",
    "    return numdocs\n",
    "\n",
    "# We don't need to keep this object in memory any longer:\n",
    "Abstracts = {}"
   ]
  },
  {
   "cell_type": "markdown",
   "metadata": {},
   "source": [
    "## Co-authorship network"
   ]
  },
  {
   "cell_type": "markdown",
   "metadata": {},
   "source": [
    "`Summaries` maps paper *ids* to paper *summaries*. Let us now create here mappings by different criteria.\n",
    "\n",
    "We'll start by building a mapping from *authors* to the set of *ids* of papers they authored. \n",
    "We'll be using Python's [sets](http://docs.python.org/3/library/stdtypes.html#set-types-set-frozenset) again for that purpose."
   ]
  },
  {
   "cell_type": "code",
   "execution_count": 8,
   "metadata": {
    "collapsed": false
   },
   "outputs": [],
   "source": [
    "papers_of_author = defaultdict(set)\n",
    "\n",
    "for id,p in Summaries.items():\n",
    "    for a in p.authors:\n",
    "        papers_of_author[a].add( id )"
   ]
  },
  {
   "cell_type": "code",
   "execution_count": 9,
   "metadata": {
    "collapsed": false
   },
   "outputs": [
    {
     "data": {
      "text/plain": [
       "{3174025, 9002129}"
      ]
     },
     "execution_count": 9,
     "metadata": {},
     "output_type": "execute_result"
    }
   ],
   "source": [
    "papers_of_author['Vine AK']"
   ]
  },
  {
   "cell_type": "code",
   "execution_count": 10,
   "metadata": {
    "collapsed": false
   },
   "outputs": [
    {
     "data": {
      "text/html": [
       "<blockquote>Thrombin in the management of full thickness macular holes<br>Vine AK, Johnson MW<br>1996<br><small>id: 9002129</small></blockquote>"
      ],
      "text/plain": [
       "<IPython.core.display.HTML object>"
      ]
     },
     "metadata": {},
     "output_type": "display_data"
    },
    {
     "data": {
      "text/html": [
       "<blockquote>Ocular complications associated with retrobulbar injections<br>Morgan CM, Schatz H, Vine AK, Cantrill HL, Davidorf FH, ...<br>1988<br><small>id: 3174025</small></blockquote>"
      ],
      "text/plain": [
       "<IPython.core.display.HTML object>"
      ]
     },
     "metadata": {},
     "output_type": "display_data"
    }
   ],
   "source": [
    "for id in papers_of_author['Vine AK']:\n",
    "    display_summary(id)"
   ]
  },
  {
   "cell_type": "markdown",
   "metadata": {},
   "source": [
    "We now build a co-authorship network, a graph linking *authors*, to the set of *co-authors* they have published with."
   ]
  },
  {
   "cell_type": "code",
   "execution_count": 11,
   "metadata": {
    "collapsed": false
   },
   "outputs": [],
   "source": [
    "coauthors = defaultdict(set)\n",
    "\n",
    "for p in Summaries.values():\n",
    "    for a in p.authors:\n",
    "        coauthors[a].update( p.authors )\n",
    "\n",
    "# The code above results in each author being listed as having co-autored with himself/herself.\n",
    "# We remove these self-references here:\n",
    "for a,ca in coauthors.items():\n",
    "    ca.remove(a)"
   ]
  },
  {
   "cell_type": "code",
   "execution_count": 12,
   "metadata": {
    "collapsed": false
   },
   "outputs": [
    {
     "name": "stdout",
     "output_type": "stream",
     "text": [
      "Rudich R, Morgan CM, Cantrill HL, Johnson MW, Gitter KA, Davidorf FH, Schatz H\n"
     ]
    }
   ],
   "source": [
    "print(', '.join( coauthors['Vine AK'] ))"
   ]
  },
  {
   "cell_type": "markdown",
   "metadata": {},
   "source": [
    "Now we can have a look at some basic statistics about our graph:"
   ]
  },
  {
   "cell_type": "code",
   "execution_count": 13,
   "metadata": {
    "collapsed": false
   },
   "outputs": [
    {
     "name": "stdout",
     "output_type": "stream",
     "text": [
      "Number of nodes:   378722 (node = author)\n",
      "Number of links:  4156534 (link = collaboration between the two linked authors on at least one paper)\n"
     ]
    }
   ],
   "source": [
    "print('Number of nodes: %8d (node = author)' % len(coauthors))\n",
    "print('Number of links: %8d (link = collaboration between the two linked authors on at least one paper)'  \\\n",
    "        % sum( len(cas) for cas in coauthors.values() ))"
   ]
  },
  {
   "cell_type": "markdown",
   "metadata": {},
   "source": [
    "With this data in hand, we can plot the [degree distribution](https://en.wikipedia.org/wiki/Degree_distribution) by showing the number of collaborators a scientist has published with:"
   ]
  },
  {
   "cell_type": "code",
   "execution_count": 14,
   "metadata": {
    "collapsed": false
   },
   "outputs": [
    {
     "data": {
      "image/png": "[encoded data removed]",
      "text/plain": [
       "<matplotlib.figure.Figure at 0x7f035e361400>"
      ]
     },
     "metadata": {},
     "output_type": "display_data"
    }
   ],
   "source": [
    "plt.hist( x=[ len(ca) for ca in coauthors.values() ], bins=range(55), histtype='bar', align='left', normed=True )\n",
    "plt.xlabel('number of collaborators')\n",
    "plt.ylabel('fraction of scientists')\n",
    "plt.xlim(0,50);"
   ]
  },
  {
   "cell_type": "markdown",
   "metadata": {},
   "source": [
    "## Citations network"
   ]
  },
  {
   "cell_type": "markdown",
   "metadata": {},
   "source": [
    "We'll start by expanding the `Citations` dataset into two mappings: \n",
    "\n",
    "* `papers_citing[id]`: papers citing a given paper;\n",
    "* `cited_by[id]`: papers cited by a given paper (in other words, its list of references).\n",
    "\n",
    "If we see the Citations dataset as a directed graph where papers are nodes, and citations links between then, then `papers_citing` gives you the list of a node's incoming links, whereas `cited_by` gives you the list of its outgoing links.\n",
    "\n",
    "The dataset was assembled by querying for papers citing a given paper. As a result, the data mapped to in `cited_by` (its values) is necessarily limited to ids of papers that are part of the dataset."
   ]
  },
  {
   "cell_type": "code",
   "execution_count": 15,
   "metadata": {
    "collapsed": false
   },
   "outputs": [],
   "source": [
    "papers_citing = Citations  # no changes needed, this is what we are storing already in the Citations dataset\n",
    "\n",
    "cited_by = defaultdict(list)\n",
    "\n",
    "for ref, papers_citing_ref in papers_citing.items():\n",
    "    for id in papers_citing_ref:\n",
    "        cited_by[ id ].append( ref )"
   ]
  },
  {
   "cell_type": "markdown",
   "metadata": {},
   "source": [
    "Let us now look at an arbitrary paper, let's say PubMed ID 16820458 (\"Changes in the spoilage-related microbiota of beef during refrigerated storage under different packaging conditions\"). We can now use the `cited_by` mapping to retrieve what we know of its list of references.\n",
    "\n",
    "As mentioned above, because the process generating the dataset asked for papers citing a given paper (and not papers a paper cites), the papers we get through `cited_by` are then necessarily all members of our datasets, and we can therefore find them in `Summaries`."
   ]
  },
  {
   "cell_type": "code",
   "execution_count": 16,
   "metadata": {
    "collapsed": false
   },
   "outputs": [
    {
     "name": "stdout",
     "output_type": "stream",
     "text": [
      "3 references identified for the paper with id 16820458\n"
     ]
    },
    {
     "data": {
      "text/plain": [
       "{4066549: 'Time course of volatile compound formation during refrigerated storage of naturally contaminated beef in air.',\n",
       " 11851808: 'Effect of oregano essential oil on microbiological and physico-chemical attributes of minced meat stored in air and modified atmospheres.',\n",
       " 12382683: 'Preservation of fresh meat with active and modified atmosphere packaging conditions.'}"
      ]
     },
     "execution_count": 16,
     "metadata": {},
     "output_type": "execute_result"
    }
   ],
   "source": [
    "paper_id = 16820458\n",
    "refs = { id : Summaries[id].title for id in cited_by[paper_id] }\n",
    "print(len(refs), 'references identified for the paper with id', paper_id)\n",
    "refs"
   ]
  },
  {
   "cell_type": "markdown",
   "metadata": {},
   "source": [
    "If we lookup the same paper in `papers_citing`, we now see that some of the cited papers are themselves in our dataset, but others are not (denote here by `'??'`):"
   ]
  },
  {
   "cell_type": "code",
   "execution_count": 17,
   "metadata": {
    "collapsed": false
   },
   "outputs": [
    {
     "data": {
      "text/plain": [
       "{17142357: 'Role of broiler carcasses and processing plant air in contamination of modified-atmosphere-packaged broiler products with psychrotrophic lactic acid bacteria.',\n",
       " 17293505: '??',\n",
       " 17696886: '??',\n",
       " 19201980: '??',\n",
       " 21784913: 'Spoilage-related activity of Carnobacterium maltaromaticum strains in air-stored and vacuum-packed meat.',\n",
       " 21803905: 'Monitoring of microbial metabolites and bacterial diversity in beef stored under different packaging conditions.',\n",
       " 22207745: '??',\n",
       " 22582378: '??',\n",
       " 23936168: '??',\n",
       " 24884520: '??',\n",
       " 24928886: '??',\n",
       " 25083110: '??'}"
      ]
     },
     "execution_count": 17,
     "metadata": {},
     "output_type": "execute_result"
    }
   ],
   "source": [
    "{ id : Summaries.get(id,['??'])[0]  for id in papers_citing[paper_id] }"
   ]
  },
  {
   "cell_type": "markdown",
   "metadata": {},
   "source": [
    "Paper 17696886, for example, is not in our dataset and we do not have any direct information about it, but its repeated occurrence in other papers' citation lists does allow us to reconstruct a good portion of its references. Below is the list of papers in our dataset cited by that paper:"
   ]
  },
  {
   "cell_type": "code",
   "execution_count": 18,
   "metadata": {
    "collapsed": false
   },
   "outputs": [
    {
     "name": "stdout",
     "output_type": "stream",
     "text": [
      "5 references identified for the paper with id 17696886\n"
     ]
    },
    {
     "data": {
      "text/plain": [
       "{7577360: 'Effect of growth of selected lactic acid bacteria on storage life of beef stored under vacuum and in air.',\n",
       " 12361300: 'Carnobacterium viridans sp. nov., an alkaliphilic, facultative anaerobe isolated from refrigerated, vacuum-packed bologna sausage.',\n",
       " 16820458: 'Changes in the spoilage-related microbiota of beef during refrigerated storage under different packaging conditions.',\n",
       " 16834594: 'Biogenic amine formation and microbial spoilage in chilled garfish (Belone belone belone)--effect of modified atmosphere packaging and previous frozen storage.',\n",
       " 17142357: 'Role of broiler carcasses and processing plant air in contamination of modified-atmosphere-packaged broiler products with psychrotrophic lactic acid bacteria.'}"
      ]
     },
     "execution_count": 18,
     "metadata": {},
     "output_type": "execute_result"
    }
   ],
   "source": [
    "paper_id2 = 17696886\n",
    "refs2 = { id : Summaries[id].title for id in cited_by[paper_id2] }\n",
    "print(len(refs2), 'references identified for the paper with id', paper_id2)\n",
    "refs2"
   ]
  },
  {
   "cell_type": "markdown",
   "metadata": {},
   "source": [
    "Now that we have a better understanding about the data we're dealing with, let us obtain again some basic statistics about our graph."
   ]
  },
  {
   "cell_type": "code",
   "execution_count": 19,
   "metadata": {
    "collapsed": false
   },
   "outputs": [
    {
     "name": "stdout",
     "output_type": "stream",
     "text": [
      "Number of core ids 190555 (100.00 %)\n",
      "Number of papers cited at least once: 85150 (44.69 %)\n",
      "Number of isolated nodes: 101264 (53.14 %)\n",
      "\t(papers that are not cited by any others, nor do themselves cite any in the dataset)\n",
      "Number of dataset ids with no citations, but known references: 4141 (2.17 %)\n",
      "(percentages calculated with respect to just the core ids (members of `Ids`) -- exclude outsider ids)\n",
      "\n"
     ]
    }
   ],
   "source": [
    "print('Number of core ids %d (100.00 %%)' % len(Ids))\n",
    "\n",
    "with_cit = [ id for id in Ids if papers_citing[id]!=[] ]\n",
    "print('Number of papers cited at least once: %d (%.2f %%)' % (len(with_cit), 100.*len(with_cit)/len(Ids)))\n",
    "\n",
    "isolated = set( id for id in Ids if papers_citing[id]==[] and id not in cited_by )\n",
    "print('Number of isolated nodes: %d (%.2f %%)\\n\\t'   \\\n",
    "      '(papers that are not cited by any others, nor do themselves cite any in the dataset)'% (\n",
    "    len(isolated), 100.*len(isolated)/len(Ids) ))\n",
    "\n",
    "noCit_withRefs = [ id for id in Ids if papers_citing[id]==[] and id in cited_by ]\n",
    "print('Number of dataset ids with no citations, but known references: %d (%.2f %%)' % (\n",
    "    len(noCit_withRefs), 100.*len(noCit_withRefs)/len(Ids)))\n",
    "\n",
    "print('(percentages calculated with respect to just the core ids (members of `Ids`) -- exclude outsider ids)\\n')"
   ]
  },
  {
   "cell_type": "code",
   "execution_count": 20,
   "metadata": {
    "collapsed": false
   },
   "outputs": [
    {
     "name": "stdout",
     "output_type": "stream",
     "text": [
      "Number of (non-isolated) nodes in the graph: 301238\n",
      "\t(papers with at least 1 known citation, or 1 known reference)\n",
      "227033 distinct ids are citing papers in our dataset.\n",
      "Of those, 211947 (93.36 %) are ids from outside the dataset.\n",
      "\n"
     ]
    }
   ],
   "source": [
    "Ids_set    = set( Ids )\n",
    "citing_Ids = set( cited_by.keys() ) # == set( c for citing in papers_citing.itervalues() for c in citing )\n",
    "\n",
    "outsiders = citing_Ids - Ids_set    # set difference: removes from `citing_Ids` all the ids that occur in `Ids_set`\n",
    "nodes     = citing_Ids | Ids_set - isolated     # set union, followed by set difference\n",
    "\n",
    "print('Number of (non-isolated) nodes in the graph: %d\\n\\t(papers with at least 1 known citation, or 1 known reference)' % len(nodes))\n",
    "print(len( citing_Ids ), 'distinct ids are citing papers in our dataset.')\n",
    "print('Of those, %d (%.2f %%) are ids from outside the dataset.\\n' % ( len(outsiders), 100.*len(outsiders)/len(citing_Ids) ))"
   ]
  },
  {
   "cell_type": "code",
   "execution_count": 21,
   "metadata": {
    "collapsed": false
   },
   "outputs": [
    {
     "name": "stdout",
     "output_type": "stream",
     "text": [
      "Number of links (citations) in the graph: 473193\n",
      "A total of 473193 citations are logged in the dataset.\n",
      "Citations by ids from outside the dataset comprise 365543 (77.25 %) of that total.\n",
      "\n"
     ]
    }
   ],
   "source": [
    "all_cits      = [ c for citing in papers_citing.values() for c in citing ]\n",
    "outsider_cits = [ c for citing in papers_citing.values() for c in citing if c in outsiders ]\n",
    "\n",
    "print('Number of links (citations) in the graph:', len(all_cits))\n",
    "print('A total of %d citations are logged in the dataset.' % len(all_cits))\n",
    "print('Citations by ids from outside the dataset comprise %d (%.2f %%) of that total.\\n' % (\n",
    "    len(outsider_cits),\n",
    "    100.*len(outsider_cits)/len(all_cits) ))"
   ]
  },
  {
   "cell_type": "markdown",
   "metadata": {},
   "source": [
    "#### Most cited papers"
   ]
  },
  {
   "cell_type": "markdown",
   "metadata": {},
   "source": [
    "Let us now find which 10 papers are the most cited in our dataset."
   ]
  },
  {
   "cell_type": "code",
   "execution_count": 22,
   "metadata": {
    "collapsed": false
   },
   "outputs": [
    {
     "data": {
      "text/html": [
       "<blockquote>Random-effects models for longitudinal data<br>Laird NM, Ware JH<br>1982<br><small>id: 7168798, nr. citations: 960</small></blockquote>"
      ],
      "text/plain": [
       "<IPython.core.display.HTML object>"
      ]
     },
     "metadata": {},
     "output_type": "display_data"
    },
    {
     "data": {
      "text/html": [
       "<blockquote><a href=http://dx.doi.org/10.1016/S0140-6736(12)61766-8>A comparative risk assessment of burden of disease and injury attributable to 67 risk factors and risk factor clusters in 21 regions, 1990-2010: a sys...</a><br>Lim SS, Vos T, Flaxman AD, Danaei G, Shibuya K, ...<br>2012<br><small>id: 23245609, nr. citations: 642</small></blockquote>"
      ],
      "text/plain": [
       "<IPython.core.display.HTML object>"
      ]
     },
     "metadata": {},
     "output_type": "display_data"
    },
    {
     "data": {
      "text/html": [
       "<blockquote><a href=http://dx.doi.org/10.1056/NEJM199312093292401>An association between air pollution and mortality in six U.S. cities</a><br>Dockery DW, Pope CA 3rd, Xu X, Spengler JD, Ware JH, ...<br>1993<br><small>id: 8179653, nr. citations: 597</small></blockquote>"
      ],
      "text/plain": [
       "<IPython.core.display.HTML object>"
      ]
     },
     "metadata": {},
     "output_type": "display_data"
    },
    {
     "data": {
      "text/html": [
       "<blockquote><a href=http://dx.doi.org/10.1016/S0140-6736(96)07495-8>Global mortality, disability, and the contribution of risk factors: Global Burden of Disease Study</a><br>Murray CJ, Lopez AD<br>1997<br><small>id: 9164317, nr. citations: 485</small></blockquote>"
      ],
      "text/plain": [
       "<IPython.core.display.HTML object>"
      ]
     },
     "metadata": {},
     "output_type": "display_data"
    },
    {
     "data": {
      "text/html": [
       "<blockquote>A simple method for organotypic cultures of nervous tissue<br>Stoppini L, Buchs PA, Muller D<br>1991<br><small>id: 1715499, nr. citations: 480</small></blockquote>"
      ],
      "text/plain": [
       "<IPython.core.display.HTML object>"
      ]
     },
     "metadata": {},
     "output_type": "display_data"
    },
    {
     "data": {
      "text/html": [
       "<blockquote>Lung cancer, cardiopulmonary mortality, and long-term exposure to fine particulate air pollution<br>Pope CA 3rd, Burnett RT, Thun MJ, Calle EE, Krewski D, ...<br>2002<br><small>id: 11879110, nr. citations: 474</small></blockquote>"
      ],
      "text/plain": [
       "<IPython.core.display.HTML object>"
      ]
     },
     "metadata": {},
     "output_type": "display_data"
    },
    {
     "data": {
      "text/html": [
       "<blockquote><a href=http://dx.doi.org/10.1161/CIR.0b013e3181dbece1>Particulate matter air pollution and cardiovascular disease: An update to the scientific statement from the American Heart Association</a><br>Brook RD, Rajagopalan S, Pope CA 3rd, Brook JR, Bhatnagar A, ...<br>2010<br><small>id: 20458016, nr. citations: 454</small></blockquote>"
      ],
      "text/plain": [
       "<IPython.core.display.HTML object>"
      ]
     },
     "metadata": {},
     "output_type": "display_data"
    },
    {
     "data": {
      "text/html": [
       "<blockquote><a href=http://dx.doi.org/10.1021/ja026939x>HADDOCK: a protein-protein docking approach based on biochemical or biophysical information</a><br>Dominguez C, Boelens R, Bonvin AM<br>2003<br><small>id: 12580598, nr. citations: 434</small></blockquote>"
      ],
      "text/plain": [
       "<IPython.core.display.HTML object>"
      ]
     },
     "metadata": {},
     "output_type": "display_data"
    },
    {
     "data": {
      "text/html": [
       "<blockquote>Bilirubin is an antioxidant of possible physiological importance<br>Stocker R, Yamamoto Y, McDonagh AF, Glazer AN, Ames BN<br>1987<br><small>id: 3029864, nr. citations: 373</small></blockquote>"
      ],
      "text/plain": [
       "<IPython.core.display.HTML object>"
      ]
     },
     "metadata": {},
     "output_type": "display_data"
    },
    {
     "data": {
      "text/html": [
       "<blockquote>Primary prevention of acute coronary events with lovastatin in men and women with average cholesterol levels: results of AFCAPS/TexCAPS. Air Force/Tex...<br>Downs JR, Clearfield M, Weis S, Whitney E, Shapiro DR, ...<br>1998<br><small>id: 9613910, nr. citations: 363</small></blockquote>"
      ],
      "text/plain": [
       "<IPython.core.display.HTML object>"
      ]
     },
     "metadata": {},
     "output_type": "display_data"
    }
   ],
   "source": [
    "nr_cits_per_paper = [ (id, len(cits)) for (id,cits) in papers_citing.items() ]\n",
    "\n",
    "for (id, cits) in sorted( nr_cits_per_paper, key=lambda i:i[1], reverse=True )[:10]:\n",
    "    display_summary( id, ', nr. citations: %d' % cits )"
   ]
  },
  {
   "cell_type": "markdown",
   "metadata": {},
   "source": [
    "## Link Analysis for Search Engines"
   ]
  },
  {
   "cell_type": "markdown",
   "metadata": {},
   "source": [
    "In order to use the citation network, we need to be able to perform some complex graph algorithms on it. To make our lives easier, we will load the data into the python package [NetworkX](https://pypi.python.org/pypi/networkx), a package for the creation, manipulation, and study of the structure, dynamics, and function of complex networks, which provides a number of these graph algorithms (such as HITS and PageRank) out of the box.\n",
    "\n",
    "You probably have to [install the NetworkX package](https://pypi.python.org/pypi/networkx) first."
   ]
  },
  {
   "cell_type": "code",
   "execution_count": 23,
   "metadata": {
    "collapsed": false
   },
   "outputs": [],
   "source": [
    "import networkx as nx\n",
    "\n",
    "G = nx.DiGraph(cited_by)"
   ]
  },
  {
   "cell_type": "markdown",
   "metadata": {},
   "source": [
    "We now have a NetworkX Directed Graph stored in `G`, where a node represents a paper, and an edge represents a citation. This means we can now apply the [algorithms](http://networkx.github.io/documentation/networkx-1.10/reference/algorithms.html) and [functions](http://networkx.github.io/documentation/networkx-1.10/reference/functions.html) of NetworkX to our graph:"
   ]
  },
  {
   "cell_type": "code",
   "execution_count": 24,
   "metadata": {
    "collapsed": false
   },
   "outputs": [
    {
     "name": "stdout",
     "output_type": "stream",
     "text": [
      "Name: \n",
      "Type: DiGraph\n",
      "Number of nodes: 301238\n",
      "Number of edges: 473193\n",
      "Average in degree:   1.5708\n",
      "Average out degree:   1.5708\n",
      "True\n",
      "5.214590895602556e-06\n"
     ]
    }
   ],
   "source": [
    "print(nx.info(G))\n",
    "print(nx.is_directed(G))\n",
    "print(nx.density(G))"
   ]
  },
  {
   "cell_type": "markdown",
   "metadata": {},
   "source": [
    "As this graph was generated from citations only, we need to add all isolated nodes (nodes that are not cited and do not cite other papers) as well:"
   ]
  },
  {
   "cell_type": "code",
   "execution_count": 25,
   "metadata": {
    "collapsed": false
   },
   "outputs": [],
   "source": [
    "G.add_nodes_from(isolated)"
   ]
  },
  {
   "cell_type": "code",
   "execution_count": 26,
   "metadata": {
    "collapsed": false
   },
   "outputs": [
    {
     "name": "stdout",
     "output_type": "stream",
     "text": [
      "Name: \n",
      "Type: DiGraph\n",
      "Number of nodes: 402502\n",
      "Number of edges: 473193\n",
      "Average in degree:   1.1756\n",
      "Average out degree:   1.1756\n",
      "True\n",
      "2.9208099879856355e-06\n"
     ]
    }
   ],
   "source": [
    "print(nx.info(G))\n",
    "print(nx.is_directed(G))\n",
    "print(nx.density(G))"
   ]
  },
  {
   "cell_type": "markdown",
   "metadata": {},
   "source": [
    "## Assignments"
   ]
  },
  {
   "cell_type": "markdown",
   "metadata": {},
   "source": [
    "**Your name:** ..."
   ]
  },
  {
   "cell_type": "markdown",
   "metadata": {},
   "source": [
    "* Plot the in-degree distribution (the distribution of the number of incoming links) for the citation network. What can you tell about the shape of this distribution, and what does this tell us about the network?"
   ]
  },
  {
   "cell_type": "code",
   "execution_count": 27,
   "metadata": {
    "collapsed": true
   },
   "outputs": [],
   "source": [
    "# Add your code here"
   ]
  },
  {
   "cell_type": "markdown",
   "metadata": {},
   "source": [
    "[Write your answer text here]"
   ]
  },
  {
   "cell_type": "markdown",
   "metadata": {},
   "source": [
    "* Using the [Link Analysis](https://networkx.github.io/documentation/networkx-1.10/reference/algorithms.link_analysis.html) algorithms provided by NetworkX, calculate the PageRank score for each node in the citation network, and store them in a variable. Print out the PageRank values for the two example papers given below.\n",
    "\n",
    "  Hint: the `pagerank_scipy` implementation tend to be considerably faster than its regular `pagerank` counterpart (but you have to install the [SciPy package](http://scipy.org/) for that)."
   ]
  },
  {
   "cell_type": "code",
   "execution_count": 28,
   "metadata": {
    "collapsed": true
   },
   "outputs": [],
   "source": [
    "# Add your code here\n",
    "\n",
    "# print PageRank for paper 7168798\n",
    "# print PageRank for paper 21056779"
   ]
  },
  {
   "cell_type": "markdown",
   "metadata": {},
   "source": [
    "* Copy your search engine from mini-assignment 3, and create a version that incorporates a paper's PageRank score in it's final score, in addition to tf-idf. Show the result of an example query, and explain your decision on how to combine the two scores (PageRank and tf-idf)."
   ]
  },
  {
   "cell_type": "code",
   "execution_count": 29,
   "metadata": {
    "collapsed": true
   },
   "outputs": [],
   "source": [
    "# Add your code here"
   ]
  },
  {
   "cell_type": "markdown",
   "metadata": {},
   "source": [
    "[Write your answer text here]"
   ]
  }
 ],
 "metadata": {
  "kernelspec": {
   "display_name": "Python 3",
   "language": "python",
   "name": "python3"
  },
  "language_info": {
   "codemirror_mode": {
    "name": "ipython",
    "version": 3
   },
   "file_extension": ".py",
   "mimetype": "text/x-python",
   "name": "python",
   "nbconvert_exporter": "python",
   "pygments_lexer": "ipython3",
   "version": "3.5.2"
  }
 },
 "nbformat": 4,
 "nbformat_minor": 0
}
