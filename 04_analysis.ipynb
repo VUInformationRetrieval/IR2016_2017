{
 "cells": [
  {
   "cell_type": "markdown",
   "metadata": {},
   "source": [
    "# Mini-Assignment 4: Link Analysis"
   ]
  },
  {
   "cell_type": "markdown",
   "metadata": {},
   "source": [
    "**IMPORTANT: This is not the final version! The assignments will be changed.**"
   ]
  },
  {
   "cell_type": "markdown",
   "metadata": {},
   "source": [
    "In this mini-assignment, we will exploit graph algorithms to improve search results. For our dataset of scientific papers, we look at two graphs in particular: the co-authorship network and the citation network.\n",
    "\n",
    "The citation network is similar to the link network of the web: Citations are like web links pointing to other documents. We can therefore apply the same network-based ranking methods."
   ]
  },
  {
   "cell_type": "markdown",
   "metadata": {},
   "source": [
    "## Code from previous exercises"
   ]
  },
  {
   "cell_type": "code",
   "execution_count": 1,
   "metadata": {
    "collapsed": false
   },
   "outputs": [],
   "source": [
    "import pickle, bz2\n",
    "from collections import defaultdict, namedtuple, Counter\n",
    "from math import log10, sqrt\n",
    "from IPython.display import display, HTML\n",
    "import matplotlib.pyplot as plt\n",
    "\n",
    "# show plots inline within the notebook\n",
    "%matplotlib inline\n",
    "# set plots' resolution\n",
    "plt.rcParams['savefig.dpi'] = 100"
   ]
  },
  {
   "cell_type": "code",
   "execution_count": 2,
   "metadata": {
    "collapsed": false
   },
   "outputs": [],
   "source": [
    "Ids_file = 'data/malaria__Ids.pkl.bz2'\n",
    "Summaries_file = 'data/malaria__Summaries.pkl.bz2'\n",
    "Citations_file = 'data/malaria__Citations.pkl.bz2'\n",
    "Abstracts_file = 'data/malaria__Abstracts.pkl.bz2'\n",
    "\n",
    "Ids = pickle.load( bz2.BZ2File( Ids_file, 'rb' ) )\n",
    "Summaries = pickle.load( bz2.BZ2File( Summaries_file, 'rb' ) )\n",
    "Citations = pickle.load( bz2.BZ2File( Citations_file, 'rb' ) )\n",
    "\n",
    "paper = namedtuple( 'paper', ['title', 'authors', 'year', 'doi'] )\n",
    "\n",
    "for (id, paper_info) in Summaries.items():\n",
    "    Summaries[id] = paper( *paper_info )"
   ]
  },
  {
   "cell_type": "code",
   "execution_count": 3,
   "metadata": {
    "collapsed": false
   },
   "outputs": [],
   "source": [
    "def display_summary( id, show_abstract=False, show_id=True, extra_text='' ):\n",
    "    \"\"\"\n",
    "    Function for printing a paper's summary through IPython's Rich Display System.\n",
    "    Trims long author lists, and adds a link to the paper's DOI (when available).\n",
    "    \"\"\"\n",
    "    s = Summaries[id]\n",
    "    lines = []\n",
    "    title = s.title\n",
    "    if s.doi != '':\n",
    "        title = '<a href=http://dx.doi.org/%s>%s</a>' % (s.doi, title)\n",
    "    title = '<strong>' + title + '</strong>'\n",
    "    lines.append(title)\n",
    "    authors = ', '.join( s.authors[:20] ) + ('' if len(s.authors) <= 20 else ', ...')\n",
    "    lines.append(str(s.year) + '. ' + authors)\n",
    "    if (show_abstract):\n",
    "        lines.append('<small><strong>Abstract:</strong> <em>%s</em></small>' % Abstracts[id])\n",
    "    if (show_id):\n",
    "        lines.append('[ID: %d]' % id)\n",
    "    if (extra_text != ''):\n",
    "         lines.append(extra_text)\n",
    "    display( HTML('<br>'.join(lines)) )"
   ]
  },
  {
   "cell_type": "code",
   "execution_count": 4,
   "metadata": {
    "collapsed": true
   },
   "outputs": [],
   "source": [
    "def tokenize(text):\n",
    "    return text.split(' ')\n",
    "\n",
    "def preprocess(tokens):\n",
    "    result = []\n",
    "    for token in tokens:\n",
    "        result.append(token.lower())\n",
    "    return result"
   ]
  },
  {
   "cell_type": "code",
   "execution_count": 5,
   "metadata": {
    "collapsed": false
   },
   "outputs": [],
   "source": [
    "Abstracts = pickle.load( bz2.BZ2File( Abstracts_file, 'rb' ) )\n",
    "\n",
    "inverted_index = defaultdict(set)\n",
    "\n",
    "for (id, abstract) in Abstracts.items():\n",
    "    for term in preprocess(tokenize(abstract)):\n",
    "        inverted_index[term].add(id)\n",
    "\n",
    "tf_matrix = defaultdict(Counter)\n",
    "length_values = defaultdict(int)\n",
    "\n",
    "for (doc_id, abstract) in Abstracts.items():\n",
    "    tokens = preprocess(tokenize(abstract))\n",
    "    tf_matrix[doc_id] = Counter(tokens)\n",
    "    l = 0\n",
    "    for t in tf_matrix[doc_id].keys():\n",
    "        l += tf_matrix[doc_id][t] ** 2\n",
    "    length_values[doc_id] = sqrt(l)\n",
    "\n",
    "def tf(t,d):\n",
    "    return float(tf_matrix[d][t])\n",
    "\n",
    "def df(t):\n",
    "    return float(len(inverted_index[t]))\n",
    "    \n",
    "def num_documents():\n",
    "    return float(len(Abstracts))\n",
    "\n",
    "def length_tf(d):\n",
    "    return length_values[d]\n",
    "\n",
    "# We don't need to keep this object in memory any longer:\n",
    "Abstracts = {}"
   ]
  },
  {
   "cell_type": "markdown",
   "metadata": {},
   "source": [
    "## Co-authorship network"
   ]
  },
  {
   "cell_type": "markdown",
   "metadata": {},
   "source": [
    "`Summaries` maps paper *ids* to paper *summaries*. Let us now create here mappings by different criteria.\n",
    "\n",
    "We'll start by building a mapping from *authors* to the set of *ids* of papers they authored. \n",
    "We'll be using Python's [sets](http://docs.python.org/3/library/stdtypes.html#set-types-set-frozenset) again for that purpose."
   ]
  },
  {
   "cell_type": "code",
   "execution_count": 6,
   "metadata": {
    "collapsed": false
   },
   "outputs": [],
   "source": [
    "papers_of_author = defaultdict(set)\n",
    "\n",
    "for id,p in Summaries.items():\n",
    "    for a in p.authors:\n",
    "        papers_of_author[a].add( id )"
   ]
  },
  {
   "cell_type": "code",
   "execution_count": 7,
   "metadata": {
    "collapsed": false
   },
   "outputs": [
    {
     "data": {
      "text/plain": [
       "{24130474, 26456841}"
      ]
     },
     "execution_count": 7,
     "metadata": {},
     "output_type": "execute_result"
    }
   ],
   "source": [
    "papers_of_author['Clauset A']"
   ]
  },
  {
   "cell_type": "code",
   "execution_count": 8,
   "metadata": {
    "collapsed": false
   },
   "outputs": [
    {
     "data": {
      "text/html": [
       "<strong><a href=http://dx.doi.org/10.1038/ncomms9368>Ape parasite origins of human malaria virulence genes.</a></strong><br>2015. Larremore DB, Sundararaman SA, Liu W, Proto WR, Clauset A, Loy DE, Speede S, Plenderleith LJ, Sharp PM, Hahn BH, Rayner JC, Buckee CO<br>[ID: 26456841]"
      ],
      "text/plain": [
       "<IPython.core.display.HTML object>"
      ]
     },
     "metadata": {},
     "output_type": "display_data"
    },
    {
     "data": {
      "text/html": [
       "<strong><a href=http://dx.doi.org/10.1371/journal.pcbi.1003268>A network approach to analyzing highly recombinant malaria parasite genes.</a></strong><br>2013. Larremore DB, Clauset A, Buckee CO<br>[ID: 24130474]"
      ],
      "text/plain": [
       "<IPython.core.display.HTML object>"
      ]
     },
     "metadata": {},
     "output_type": "display_data"
    }
   ],
   "source": [
    "for id in papers_of_author['Clauset A']:\n",
    "    display_summary(id)"
   ]
  },
  {
   "cell_type": "markdown",
   "metadata": {},
   "source": [
    "We now build a co-authorship network, a graph linking *authors*, to the set of *co-authors* they have published with."
   ]
  },
  {
   "cell_type": "code",
   "execution_count": 9,
   "metadata": {
    "collapsed": false
   },
   "outputs": [],
   "source": [
    "coauthors = defaultdict(set)\n",
    "\n",
    "for p in Summaries.values():\n",
    "    for a in p.authors:\n",
    "        coauthors[a].update( p.authors )\n",
    "\n",
    "# The code above results in each author being listed as having co-autored with himself/herself.\n",
    "# We remove these self-references here:\n",
    "for a,ca in coauthors.items():\n",
    "    ca.remove(a)"
   ]
  },
  {
   "cell_type": "code",
   "execution_count": 10,
   "metadata": {
    "collapsed": false
   },
   "outputs": [
    {
     "name": "stdout",
     "output_type": "stream",
     "text": [
      "Larremore DB, Sharp PM, Liu W, Proto WR, Loy DE, Hahn BH, Rayner JC, Buckee CO, Speede S, Sundararaman SA, Plenderleith LJ\n"
     ]
    }
   ],
   "source": [
    "print(', '.join( coauthors['Clauset A'] ))"
   ]
  },
  {
   "cell_type": "markdown",
   "metadata": {},
   "source": [
    "Now we can have a look at some basic statistics about our graph:"
   ]
  },
  {
   "cell_type": "code",
   "execution_count": 11,
   "metadata": {
    "collapsed": false
   },
   "outputs": [
    {
     "name": "stdout",
     "output_type": "stream",
     "text": [
      "Number of nodes:   114572 (node = author)\n",
      "Number of links:  2488486 (link = collaboration between the two linked authors on at least one paper)\n"
     ]
    }
   ],
   "source": [
    "print('Number of nodes: %8d (node = author)' % len(coauthors))\n",
    "print('Number of links: %8d (link = collaboration between the two linked authors on at least one paper)'  \\\n",
    "        % sum( len(cas) for cas in coauthors.values() ))"
   ]
  },
  {
   "cell_type": "markdown",
   "metadata": {},
   "source": [
    "With this data in hand, we can plot the [degree distribution](https://en.wikipedia.org/wiki/Degree_distribution) by showing the number of collaborators a scientist has published with:"
   ]
  },
  {
   "cell_type": "code",
   "execution_count": 12,
   "metadata": {
    "collapsed": false
   },
   "outputs": [
    {
     "data": {
      "image/png": "[encoded data removed]",
      "text/plain": [
       "<matplotlib.figure.Figure at 0x7f3d1a085978>"
      ]
     },
     "metadata": {},
     "output_type": "display_data"
    }
   ],
   "source": [
    "plt.hist( x=[ len(ca) for ca in coauthors.values() ], bins=range(55), histtype='bar', align='left', normed=True )\n",
    "plt.xlabel('number of collaborators')\n",
    "plt.ylabel('fraction of scientists')\n",
    "plt.xlim(0,50);"
   ]
  },
  {
   "cell_type": "markdown",
   "metadata": {},
   "source": [
    "## Citations network"
   ]
  },
  {
   "cell_type": "markdown",
   "metadata": {},
   "source": [
    "We'll start by expanding the `Citations` dataset into two mappings: \n",
    "\n",
    "* `papers_citing[id]`: papers citing a given paper;\n",
    "* `cited_by[id]`: papers cited by a given paper (in other words, its list of references).\n",
    "\n",
    "If we see the Citations dataset as a directed graph where papers are nodes, and citations links between then, then `papers_citing` gives you the list of a node's incoming links, whereas `cited_by` gives you the list of its outgoing links.\n",
    "\n",
    "The dataset was assembled by querying for papers citing a given paper. As a result, the data mapped to in `cited_by` (its values) is necessarily limited to ids of papers that are part of the dataset."
   ]
  },
  {
   "cell_type": "code",
   "execution_count": 13,
   "metadata": {
    "collapsed": false
   },
   "outputs": [],
   "source": [
    "papers_citing = Citations  # no changes needed, this is what we are storing already in the Citations dataset\n",
    "\n",
    "cited_by = defaultdict(list)\n",
    "\n",
    "for ref, papers_citing_ref in papers_citing.items():\n",
    "    for id in papers_citing_ref:\n",
    "        cited_by[ id ].append( ref )"
   ]
  },
  {
   "cell_type": "markdown",
   "metadata": {},
   "source": [
    "Let us now look at an arbitrary paper, let's say PubMed ID 16820458 (\"Changes in the spoilage-related microbiota of beef during refrigerated storage under different packaging conditions\"). We can now use the `cited_by` mapping to retrieve what we know of its list of references.\n",
    "\n",
    "As mentioned above, because the process generating the dataset asked for papers citing a given paper (and not papers a paper cites), the papers we get through `cited_by` are then necessarily all members of our datasets, and we can therefore find them in `Summaries`."
   ]
  },
  {
   "cell_type": "code",
   "execution_count": 14,
   "metadata": {
    "collapsed": false
   },
   "outputs": [
    {
     "name": "stdout",
     "output_type": "stream",
     "text": [
      "26 references identified for the paper with id 24130474\n"
     ]
    },
    {
     "data": {
      "text/plain": [
       "{7606788: 'The large diverse gene family var encodes proteins involved in cytoadherence and antigenic variation of Plasmodium falciparum-infected erythrocytes.',\n",
       " 9500614: 'Parasite antigens on the infected red cell surface are targets for naturally acquired immunity to malaria.',\n",
       " 9916084: 'Antibody recognition of Plasmodium falciparum erythrocyte surface antigens in Kenya: evidence for rare and prevalent variants.',\n",
       " 10086393: 'Immunity to non-cerebral severe malaria is acquired after one or two infections.',\n",
       " 10714439: 'Antibodies to variable Plasmodium falciparum-infected erythrocyte surface antigens are associated with protection from novel malaria infections.',\n",
       " 11069183: 'Frequent ectopic recombination of virulence factor genes in telomeric chromosome clusters of P. falciparum.',\n",
       " 11071284: 'Classification of adhesive domains in the Plasmodium falciparum erythrocyte membrane protein 1 family.',\n",
       " 11349035: 'Antibodies to variant antigens on the surfaces of infected erythrocytes are associated with protection from malaria in Ghanaian children.',\n",
       " 11544371: 'Antigenic variation at the infected red cell surface in malaria.',\n",
       " 11827798: 'The role of antibodies to Plasmodium falciparum-infected-erythrocyte surface antigens in naturally acquired immunity to malaria.',\n",
       " 12368864: 'Genome sequence of the human malaria parasite Plasmodium falciparum.',\n",
       " 14565852: 'Sub-grouping of Plasmodium falciparum 3D7 var genes based on sequence analysis of coding and non-coding regions.',\n",
       " 14651636: 'Evidence for the importance of genetic structuring to the structural and functional specialization of the Plasmodium falciparum var gene family.',\n",
       " 16304608: 'Plasmodium falciparum variant surface antigen expression patterns during malaria.',\n",
       " 16697476: 'Global genetic diversity and evolution of var genes associated with placental and severe childhood malaria.',\n",
       " 16814594: 'A family affair: var genes, PfEMP1 binding, and malaria disease.',\n",
       " 17286864: 'Patterns of gene recombination shape var gene repertoires in Plasmodium falciparum: comparisons of geographically diverse isolates.',\n",
       " 17367208: 'Population genomics of the immune evasion (var) genes of Plasmodium falciparum.',\n",
       " 17669514: 'Structural polymorphism and diversifying selection on the pregnancy malaria vaccine candidate VAR2CSA.',\n",
       " 18395207: 'Frequent recombination events generate diversity within the multi-copy variant antigen gene families of Plasmodium falciparum.',\n",
       " 20018734: 'Plasmodium falciparum var gene expression is modified by host immunity.',\n",
       " 20862303: 'Plasmodium falciparum erythrocyte membrane protein 1 diversity in seven genomes--divide and conquer.',\n",
       " 22496547: 'Prognostic indicators of life-threatening malaria are associated with distinct parasite variant antigen profiles.',\n",
       " 22511852: 'Evolution of the multi-domain structures of virulence genes in the human malaria parasite, Plasmodium falciparum.',\n",
       " 22850879: 'Targets of antibodies against Plasmodium falciparum-infected erythrocytes in malaria immunity.',\n",
       " 23408914: 'Mitotic evolution of Plasmodium falciparum shows a stable core genome but recombination in antigen families.'}"
      ]
     },
     "execution_count": 14,
     "metadata": {},
     "output_type": "execute_result"
    }
   ],
   "source": [
    "paper_id = 24130474\n",
    "refs = { id : Summaries[id].title for id in cited_by[paper_id] }\n",
    "print(len(refs), 'references identified for the paper with id', paper_id)\n",
    "refs"
   ]
  },
  {
   "cell_type": "markdown",
   "metadata": {},
   "source": [
    "If we lookup the same paper in `papers_citing`, we now see that some of the cited papers are themselves in our dataset, but others are not (denote here by `'??'`):"
   ]
  },
  {
   "cell_type": "code",
   "execution_count": 15,
   "metadata": {
    "collapsed": false
   },
   "outputs": [
    {
     "data": {
      "text/plain": [
       "{25122340: '??',\n",
       " 25303095: '??',\n",
       " 25368109: 'Immune characterization of Plasmodium falciparum parasites with a shared genetic signature in a region of decreasing transmission.',\n",
       " 25521112: '??',\n",
       " 26456841: 'Ape parasite origins of human malaria virulence genes.',\n",
       " 27306566: '??'}"
      ]
     },
     "execution_count": 15,
     "metadata": {},
     "output_type": "execute_result"
    }
   ],
   "source": [
    "{ id : Summaries.get(id,['??'])[0]  for id in papers_citing[paper_id] }"
   ]
  },
  {
   "cell_type": "markdown",
   "metadata": {},
   "source": [
    "Paper 25122340, for example, is not in our dataset and we do not have any direct information about it, but its repeated occurrence in other papers' citation lists does allow us to reconstruct a good portion of its references. Below is the list of papers in our dataset cited by that paper:"
   ]
  },
  {
   "cell_type": "code",
   "execution_count": 16,
   "metadata": {
    "collapsed": false
   },
   "outputs": [
    {
     "name": "stdout",
     "output_type": "stream",
     "text": [
      "2 references identified for the paper with id 25122340\n"
     ]
    },
    {
     "data": {
      "text/plain": [
       "{20862303: 'Plasmodium falciparum erythrocyte membrane protein 1 diversity in seven genomes--divide and conquer.',\n",
       " 24130474: 'A network approach to analyzing highly recombinant malaria parasite genes.'}"
      ]
     },
     "execution_count": 16,
     "metadata": {},
     "output_type": "execute_result"
    }
   ],
   "source": [
    "paper_id2 = 25122340\n",
    "refs2 = { id : Summaries[id].title for id in cited_by[paper_id2] }\n",
    "print(len(refs2), 'references identified for the paper with id', paper_id2)\n",
    "refs2"
   ]
  },
  {
   "cell_type": "markdown",
   "metadata": {},
   "source": [
    "Now that we have a better understanding about the data we're dealing with, let us obtain again some basic statistics about our graph."
   ]
  },
  {
   "cell_type": "code",
   "execution_count": 17,
   "metadata": {
    "collapsed": false
   },
   "outputs": [
    {
     "name": "stdout",
     "output_type": "stream",
     "text": [
      "Number of core ids 67028 (100.00 %)\n",
      "Number of papers cited at least once: 45340 (67.64 %)\n",
      "Number of isolated nodes: 18765 (28.00 %)\n",
      "\t(papers that are not cited by any others, nor do themselves cite any in the dataset)\n",
      "Number of dataset ids with no citations, but known references: 2923 (4.36 %)\n",
      "(percentages calculated with respect to just the core ids (members of `Ids`) -- exclude outsider ids)\n",
      "\n"
     ]
    }
   ],
   "source": [
    "print('Number of core ids %d (100.00 %%)' % len(Ids))\n",
    "\n",
    "with_cit = [ id for id in Ids if papers_citing[id]!=[] ]\n",
    "print('Number of papers cited at least once: %d (%.2f %%)' % (len(with_cit), 100.*len(with_cit)/len(Ids)))\n",
    "\n",
    "isolated = set( id for id in Ids if papers_citing[id]==[] and id not in cited_by )\n",
    "print('Number of isolated nodes: %d (%.2f %%)\\n\\t'   \\\n",
    "      '(papers that are not cited by any others, nor do themselves cite any in the dataset)'% (\n",
    "    len(isolated), 100.*len(isolated)/len(Ids) ))\n",
    "\n",
    "noCit_withRefs = [ id for id in Ids if papers_citing[id]==[] and id in cited_by ]\n",
    "print('Number of dataset ids with no citations, but known references: %d (%.2f %%)' % (\n",
    "    len(noCit_withRefs), 100.*len(noCit_withRefs)/len(Ids)))\n",
    "\n",
    "print('(percentages calculated with respect to just the core ids (members of `Ids`) -- exclude outsider ids)\\n')"
   ]
  },
  {
   "cell_type": "code",
   "execution_count": 18,
   "metadata": {
    "collapsed": false
   },
   "outputs": [
    {
     "name": "stdout",
     "output_type": "stream",
     "text": [
      "Number of (non-isolated) nodes in the graph: 128104\n",
      "\t(papers with at least 1 known citation, or 1 known reference)\n",
      "98423 distinct ids are citing papers in our dataset.\n",
      "Of those, 79841 (81.12 %) are ids from outside the dataset.\n",
      "\n"
     ]
    }
   ],
   "source": [
    "Ids_set    = set( Ids )\n",
    "citing_Ids = set( cited_by.keys() ) # == set( c for citing in papers_citing.itervalues() for c in citing )\n",
    "\n",
    "outsiders = citing_Ids - Ids_set    # set difference: removes from `citing_Ids` all the ids that occur in `Ids_set`\n",
    "nodes     = citing_Ids | Ids_set - isolated     # set union, followed by set difference\n",
    "\n",
    "print('Number of (non-isolated) nodes in the graph: %d\\n\\t(papers with at least 1 known citation, or 1 known reference)' % len(nodes))\n",
    "print(len( citing_Ids ), 'distinct ids are citing papers in our dataset.')\n",
    "print('Of those, %d (%.2f %%) are ids from outside the dataset.\\n' % ( len(outsiders), 100.*len(outsiders)/len(citing_Ids) ))"
   ]
  },
  {
   "cell_type": "code",
   "execution_count": 19,
   "metadata": {
    "collapsed": false
   },
   "outputs": [
    {
     "name": "stdout",
     "output_type": "stream",
     "text": [
      "Number of links (citations) in the graph: 552219\n",
      "A total of 552219 citations are logged in the dataset.\n",
      "Citations by ids from outside the dataset comprise 172094 (31.16 %) of that total.\n",
      "\n"
     ]
    }
   ],
   "source": [
    "all_cits      = [ c for citing in papers_citing.values() for c in citing ]\n",
    "outsider_cits = [ c for citing in papers_citing.values() for c in citing if c in outsiders ]\n",
    "\n",
    "print('Number of links (citations) in the graph:', len(all_cits))\n",
    "print('A total of %d citations are logged in the dataset.' % len(all_cits))\n",
    "print('Citations by ids from outside the dataset comprise %d (%.2f %%) of that total.\\n' % (\n",
    "    len(outsider_cits),\n",
    "    100.*len(outsider_cits)/len(all_cits) ))"
   ]
  },
  {
   "cell_type": "markdown",
   "metadata": {},
   "source": [
    "#### Most cited papers"
   ]
  },
  {
   "cell_type": "markdown",
   "metadata": {},
   "source": [
    "Let us now find which 10 papers are the most cited in our dataset."
   ]
  },
  {
   "cell_type": "code",
   "execution_count": 21,
   "metadata": {
    "collapsed": false
   },
   "outputs": [
    {
     "data": {
      "text/html": [
       "<strong>Human malaria parasites in continuous culture.</strong><br>1976. Trager W, Jensen JB<br>[ID: 781840]<br>, nr. citations: 1503"
      ],
      "text/plain": [
       "<IPython.core.display.HTML object>"
      ]
     },
     "metadata": {},
     "output_type": "display_data"
    },
    {
     "data": {
      "text/html": [
       "<strong><a href=http://dx.doi.org/10.1016/S0140-6736(12)61728-0>Global and regional mortality from 235 causes of death for 20 age groups in 1990 and 2010: a systematic analysis for the Global Burden of Disease Study 2010.</a></strong><br>2012. Lozano R, Naghavi M, Foreman K, Lim S, Shibuya K, Aboyans V, Abraham J, Adair T, Aggarwal R, Ahn SY, Alvarado M, Anderson HR, Anderson LM, Andrews KG, Atkinson C, Baddour LM, Barker-Collo S, Bartels DH, Bell ML, Benjamin EJ, ...<br>[ID: 23245604]<br>, nr. citations: 1396"
      ],
      "text/plain": [
       "<IPython.core.display.HTML object>"
      ]
     },
     "metadata": {},
     "output_type": "display_data"
    },
    {
     "data": {
      "text/html": [
       "<strong><a href=http://dx.doi.org/10.1101/gr.1224503>OrthoMCL: identification of ortholog groups for eukaryotic genomes.</a></strong><br>2003. Li L, Stoeckert CJ Jr, Roos DS<br>[ID: 12952885]<br>, nr. citations: 1187"
      ],
      "text/plain": [
       "<IPython.core.display.HTML object>"
      ]
     },
     "metadata": {},
     "output_type": "display_data"
    },
    {
     "data": {
      "text/html": [
       "<strong><a href=http://dx.doi.org/10.1038/nature01097>Genome sequence of the human malaria parasite Plasmodium falciparum.</a></strong><br>2002. Gardner MJ, Hall N, Fung E, White O, Berriman M, Hyman RW, Carlton JM, Pain A, Nelson KE, Bowman S, Paulsen IT, James K, Eisen JA, Rutherford K, Salzberg SL, Craig A, Kyes S, Chan MS, Nene V, Shallom SJ, ...<br>[ID: 12368864]<br>, nr. citations: 1063"
      ],
      "text/plain": [
       "<IPython.core.display.HTML object>"
      ]
     },
     "metadata": {},
     "output_type": "display_data"
    },
    {
     "data": {
      "text/html": [
       "<strong><a href=http://dx.doi.org/10.1038/nature01511>Mass spectrometry-based proteomics.</a></strong><br>2003. Aebersold R, Mann M<br>[ID: 12634793]<br>, nr. citations: 967"
      ],
      "text/plain": [
       "<IPython.core.display.HTML object>"
      ]
     },
     "metadata": {},
     "output_type": "display_data"
    },
    {
     "data": {
      "text/html": [
       "<strong><a href=http://dx.doi.org/10.1016/S0140-6736(96)07492-2>Alternative projections of mortality and disability by cause 1990-2020: Global Burden of Disease Study.</a></strong><br>1997. Murray CJ, Lopez AD<br>[ID: 9167458]<br>, nr. citations: 934"
      ],
      "text/plain": [
       "<IPython.core.display.HTML object>"
      ]
     },
     "metadata": {},
     "output_type": "display_data"
    },
    {
     "data": {
      "text/html": [
       "<strong><a href=http://dx.doi.org/10.1016/S0140-6736(06)68770-9>Global and regional burden of disease and risk factors, 2001: systematic analysis of population health data.</a></strong><br>2006. Lopez AD, Mathers CD, Ezzati M, Jamison DT, Murray CJ<br>[ID: 16731270]<br>, nr. citations: 918"
      ],
      "text/plain": [
       "<IPython.core.display.HTML object>"
      ]
     },
     "metadata": {},
     "output_type": "display_data"
    },
    {
     "data": {
      "text/html": [
       "<strong><a href=http://dx.doi.org/10.1056/NEJMoa0808859>Artemisinin resistance in Plasmodium falciparum malaria.</a></strong><br>2009. Dondorp AM, Nosten F, Yi P, Das D, Phyo AP, Tarning J, Lwin KM, Ariey F, Hanpithakpong W, Lee SJ, Ringwald P, Silamut K, Imwong M, Chotivanich K, Lim P, Herdman T, An SS, Yeung S, Singhasivanon P, Day NP, ...<br>[ID: 19641202]<br>, nr. citations: 807"
      ],
      "text/plain": [
       "<IPython.core.display.HTML object>"
      ]
     },
     "metadata": {},
     "output_type": "display_data"
    },
    {
     "data": {
      "text/html": [
       "<strong><a href=http://dx.doi.org/10.1038/nature03342>The global distribution of clinical episodes of Plasmodium falciparum malaria.</a></strong><br>2005. Snow RW, Guerra CA, Noor AM, Myint HY, Hay SI<br>[ID: 15759000]<br>, nr. citations: 776"
      ],
      "text/plain": [
       "<IPython.core.display.HTML object>"
      ]
     },
     "metadata": {},
     "output_type": "display_data"
    },
    {
     "data": {
      "text/html": [
       "<strong>Synchronization of Plasmodium falciparum erythrocytic stages in culture.</strong><br>1979. Lambros C, Vanderberg JP<br>[ID: 383936]<br>, nr. citations: 775"
      ],
      "text/plain": [
       "<IPython.core.display.HTML object>"
      ]
     },
     "metadata": {},
     "output_type": "display_data"
    }
   ],
   "source": [
    "nr_cits_per_paper = [ (id, len(cits)) for (id,cits) in papers_citing.items() ]\n",
    "\n",
    "for (id, cits) in sorted( nr_cits_per_paper, key=lambda i:i[1], reverse=True )[:10]:\n",
    "    display_summary( id, extra_text=', nr. citations: %d' % cits )"
   ]
  },
  {
   "cell_type": "markdown",
   "metadata": {},
   "source": [
    "## Link Analysis for Search Engines"
   ]
  },
  {
   "cell_type": "markdown",
   "metadata": {},
   "source": [
    "In order to use the citation network, we need to be able to perform some complex graph algorithms on it. To make our lives easier, we will load the data into the python package [NetworkX](https://pypi.python.org/pypi/networkx), a package for the creation, manipulation, and study of the structure, dynamics, and function of complex networks, which provides a number of these graph algorithms (such as HITS and PageRank) out of the box.\n",
    "\n",
    "You probably have to [install the NetworkX package](https://pypi.python.org/pypi/networkx) first."
   ]
  },
  {
   "cell_type": "code",
   "execution_count": 22,
   "metadata": {
    "collapsed": false
   },
   "outputs": [],
   "source": [
    "import networkx as nx\n",
    "\n",
    "G = nx.DiGraph(cited_by)"
   ]
  },
  {
   "cell_type": "markdown",
   "metadata": {},
   "source": [
    "We now have a NetworkX Directed Graph stored in `G`, where a node represents a paper, and an edge represents a citation. This means we can now apply the [algorithms](http://networkx.github.io/documentation/networkx-1.10/reference/algorithms.html) and [functions](http://networkx.github.io/documentation/networkx-1.10/reference/functions.html) of NetworkX to our graph:"
   ]
  },
  {
   "cell_type": "code",
   "execution_count": 23,
   "metadata": {
    "collapsed": false
   },
   "outputs": [
    {
     "name": "stdout",
     "output_type": "stream",
     "text": [
      "Name: \n",
      "Type: DiGraph\n",
      "Number of nodes: 128104\n",
      "Number of edges: 552219\n",
      "Average in degree:   4.3107\n",
      "Average out degree:   4.3107\n",
      "True\n",
      "3.365033205197717e-05\n"
     ]
    }
   ],
   "source": [
    "print(nx.info(G))\n",
    "print(nx.is_directed(G))\n",
    "print(nx.density(G))"
   ]
  },
  {
   "cell_type": "markdown",
   "metadata": {},
   "source": [
    "As this graph was generated from citations only, we need to add all isolated nodes (nodes that are not cited and do not cite other papers) as well:"
   ]
  },
  {
   "cell_type": "code",
   "execution_count": 24,
   "metadata": {
    "collapsed": false
   },
   "outputs": [],
   "source": [
    "G.add_nodes_from(isolated)"
   ]
  },
  {
   "cell_type": "code",
   "execution_count": 25,
   "metadata": {
    "collapsed": false
   },
   "outputs": [
    {
     "name": "stdout",
     "output_type": "stream",
     "text": [
      "Name: \n",
      "Type: DiGraph\n",
      "Number of nodes: 146869\n",
      "Number of edges: 552219\n",
      "Average in degree:   3.7599\n",
      "Average out degree:   3.7599\n",
      "True\n",
      "2.560082886552999e-05\n"
     ]
    }
   ],
   "source": [
    "print(nx.info(G))\n",
    "print(nx.is_directed(G))\n",
    "print(nx.density(G))"
   ]
  },
  {
   "cell_type": "markdown",
   "metadata": {},
   "source": [
    "----------"
   ]
  },
  {
   "cell_type": "markdown",
   "metadata": {},
   "source": [
    "## Assignments"
   ]
  },
  {
   "cell_type": "markdown",
   "metadata": {},
   "source": [
    "**Your name:** ..."
   ]
  },
  {
   "cell_type": "markdown",
   "metadata": {},
   "source": [
    "### Task 1\n",
    "\n",
    "Plot the in-degree distribution (the distribution of the number of incoming links) for the citation network. What can you tell about the shape of this distribution, and what does this tell us about the network?"
   ]
  },
  {
   "cell_type": "code",
   "execution_count": null,
   "metadata": {
    "collapsed": true
   },
   "outputs": [],
   "source": [
    "# Add your code here"
   ]
  },
  {
   "cell_type": "markdown",
   "metadata": {},
   "source": [
    "[Write your answer text here]"
   ]
  },
  {
   "cell_type": "markdown",
   "metadata": {},
   "source": [
    "### Task 2\n",
    "\n",
    "Using the [Link Analysis](https://networkx.github.io/documentation/networkx-1.10/reference/algorithms.link_analysis.html) algorithms provided by NetworkX, calculate the PageRank score for each node in the citation network, and store them in a variable. Print out the PageRank values for the two example papers given below.\n",
    "\n",
    "  Hint: the `pagerank_scipy` implementation tend to be considerably faster than its regular `pagerank` counterpart (but you have to install the [SciPy package](http://scipy.org/) for that)."
   ]
  },
  {
   "cell_type": "code",
   "execution_count": null,
   "metadata": {
    "collapsed": true
   },
   "outputs": [],
   "source": [
    "# Add your code here\n",
    "\n",
    "# print PageRank for paper 7168798\n",
    "# print PageRank for paper 21056779"
   ]
  },
  {
   "cell_type": "markdown",
   "metadata": {},
   "source": [
    "### Task 3\n",
    "\n",
    "Copy your search engine from mini-assignment 3, and create a version that incorporates a paper's PageRank score in it's final score, in addition to tf-idf. Show the result of an example query, and explain your decision on how to combine the two scores (PageRank and tf-idf)."
   ]
  },
  {
   "cell_type": "code",
   "execution_count": null,
   "metadata": {
    "collapsed": true
   },
   "outputs": [],
   "source": [
    "# Add your code here"
   ]
  },
  {
   "cell_type": "markdown",
   "metadata": {},
   "source": [
    "[Write your answer text here]"
   ]
  }
 ],
 "metadata": {
  "kernelspec": {
   "display_name": "Python 3",
   "language": "python",
   "name": "python3"
  },
  "language_info": {
   "codemirror_mode": {
    "name": "ipython",
    "version": 3
   },
   "file_extension": ".py",
   "mimetype": "text/x-python",
   "name": "python",
   "nbconvert_exporter": "python",
   "pygments_lexer": "ipython3",
   "version": "3.5.2+"
  }
 },
 "nbformat": 4,
 "nbformat_minor": 0
}
